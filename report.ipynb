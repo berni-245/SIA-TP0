{
 "cells": [
  {
   "cell_type": "code",
   "execution_count": 9,
   "id": "0fa42524-f468-4dfb-a5c6-2c3c313f49ec",
   "metadata": {},
   "outputs": [
    {
     "name": "stdin",
     "output_type": "stream",
     "text": [
      "Write the pokémon's name you would like to capture:  caterpie\n"
     ]
    }
   ],
   "source": [
    "pokemon = input(\"Write the pokémon's name you would like to capture: \")\n",
    "pokemon_config_file = f\"configs/{pokemon}.json\""
   ]
  },
  {
   "cell_type": "code",
   "execution_count": 10,
   "id": "9db4a6ce-26d3-4447-b24c-9468ffa529a4",
   "metadata": {},
   "outputs": [
    {
     "name": "stdout",
     "output_type": "stream",
     "text": [
      "No noise:  (False, 0.332)\n",
      "Noisy:  (True, 0.33931136137739126)\n",
      "Noisy:  (False, 0.32090857053205946)\n",
      "Noisy:  (False, 0.2819555380594629)\n",
      "Noisy:  (True, 0.3557339149726161)\n",
      "Noisy:  (False, 0.3517057625068279)\n",
      "Noisy:  (False, 0.2894801462713653)\n",
      "Noisy:  (False, 0.43630763504869235)\n",
      "Noisy:  (True, 0.2979590499904276)\n",
      "Noisy:  (False, 0.3617611980057681)\n",
      "Noisy:  (True, 0.3346650870508642)\n"
     ]
    }
   ],
   "source": [
    "import json\n",
    "\n",
    "from src.catching import attempt_catch\n",
    "from src.pokemon import PokemonFactory, StatusEffect\n",
    "\n",
    "factory = PokemonFactory(\"pokemon.json\")\n",
    "with open(f\"{pokemon_config_file}\", \"r\") as f:\n",
    "    config = json.load(f)\n",
    "    ball = config[\"pokeball\"]\n",
    "    pokemon = factory.create(config[\"pokemon\"], 100, StatusEffect.NONE, 1)\n",
    "\n",
    "    # for i in range(100, 1, -1):\n",
    "    #     pokemon = factory.create(config[\"pokemon\"], 100, StatusEffect.NONE, i / 100)\n",
    "    #     print(pokemon.current_hp)\n",
    "\n",
    "    print(\"No noise: \", attempt_catch(pokemon, ball))\n",
    "    for _ in range(10):\n",
    "        print(\"Noisy: \", attempt_catch(pokemon, ball, 0.15))\n"
   ]
  }
 ],
 "metadata": {
  "kernelspec": {
   "display_name": "Python 3 (ipykernel)",
   "language": "python",
   "name": "python3"
  },
  "language_info": {
   "codemirror_mode": {
    "name": "ipython",
    "version": 3
   },
   "file_extension": ".py",
   "mimetype": "text/x-python",
   "name": "python",
   "nbconvert_exporter": "python",
   "pygments_lexer": "ipython3",
   "version": "3.11.9"
  }
 },
 "nbformat": 4,
 "nbformat_minor": 5
}
