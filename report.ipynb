{
 "cells": [
  {
   "cell_type": "code",
   "execution_count": 34,
   "id": "0fa42524-f468-4dfb-a5c6-2c3c313f49ec",
   "metadata": {},
   "outputs": [
    {
     "name": "stdin",
     "output_type": "stream",
     "text": [
      "Ingrese el pokémon que intentará capturar:  snorlax\n"
     ]
    }
   ],
   "source": [
    "pokemon = input(\"Write the pokémon's name you would like to capture: \")\n",
    "pokemon_config_file = f\"configs/{pokemon}.json\""
   ]
  },
  {
   "cell_type": "code",
   "execution_count": 36,
   "id": "9db4a6ce-26d3-4447-b24c-9468ffa529a4",
   "metadata": {},
   "outputs": [
    {
     "name": "stdout",
     "output_type": "stream",
     "text": [
      "No noise:  (False, 0.0326)\n",
      "Noisy:  (False, 0.02766769101369109)\n",
      "Noisy:  (False, 0.033582565346467926)\n",
      "Noisy:  (False, 0.02853407688599378)\n",
      "Noisy:  (False, 0.037351645500422165)\n",
      "Noisy:  (True, 0.02893573081376737)\n",
      "Noisy:  (False, 0.033295889807655785)\n",
      "Noisy:  (False, 0.03335946212828551)\n",
      "Noisy:  (True, 0.0283583742176456)\n",
      "Noisy:  (False, 0.02534505580586604)\n",
      "Noisy:  (False, 0.033171800065795745)\n"
     ]
    }
   ],
   "source": [
    "import json\n",
    "\n",
    "from src.catching import attempt_catch\n",
    "from src.pokemon import PokemonFactory, StatusEffect\n",
    "\n",
    "if __name__ == \"__main__\":\n",
    "    factory = PokemonFactory(\"pokemon.json\")\n",
    "    with open(f\"{pokemon_config_file}\", \"r\") as f:\n",
    "        config = json.load(f)\n",
    "        ball = config[\"pokeball\"]\n",
    "        pokemon = factory.create(config[\"pokemon\"], 100, StatusEffect.NONE, 1)\n",
    "\n",
    "        # for i in range(100, 1, -1):\n",
    "        #     pokemon = factory.create(config[\"pokemon\"], 100, StatusEffect.NONE, i / 100)\n",
    "        #     print(pokemon.current_hp)\n",
    "\n",
    "        print(\"No noise: \", attempt_catch(pokemon, ball))\n",
    "        for _ in range(10):\n",
    "            print(\"Noisy: \", attempt_catch(pokemon, ball, 0.15))\n"
   ]
  },
  {
   "cell_type": "code",
   "execution_count": null,
   "id": "f30ab282-82d5-4d88-bfd5-bd7f9d70079c",
   "metadata": {},
   "outputs": [],
   "source": []
  }
 ],
 "metadata": {
  "kernelspec": {
   "display_name": "Python 3 (ipykernel)",
   "language": "python",
   "name": "python3"
  },
  "language_info": {
   "codemirror_mode": {
    "name": "ipython",
    "version": 3
   },
   "file_extension": ".py",
   "mimetype": "text/x-python",
   "name": "python",
   "nbconvert_exporter": "python",
   "pygments_lexer": "ipython3",
   "version": "3.11.9"
  }
 },
 "nbformat": 4,
 "nbformat_minor": 5
}
