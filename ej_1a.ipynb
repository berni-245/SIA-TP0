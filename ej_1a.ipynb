{
 "cells": [
  {
   "cell_type": "code",
   "execution_count": 1,
   "id": "249076d7-1f99-47d9-a09b-8b692f9a834a",
   "metadata": {},
   "outputs": [],
   "source": [
    "from src.catching import attempt_catch\n",
    "from src.pokemon import PokemonFactory\n",
    "\n",
    "import matplotlib.pyplot as plt\n",
    "import seaborn as sns\n",
    "import numpy as np"
   ]
  },
  {
   "cell_type": "code",
   "execution_count": 2,
   "id": "c1b6528d-4942-4e18-87eb-842e552f93dc",
   "metadata": {},
   "outputs": [],
   "source": [
    "factory = PokemonFactory()\n",
    "ball_types = [ \"pokeball\", \"ultraball\", \"fastball\", \"heavyball\" ]"
   ]
  },
  {
   "cell_type": "code",
   "execution_count": 3,
   "id": "b3728895-0578-494b-bf4b-b7468173da3c",
   "metadata": {},
   "outputs": [],
   "source": [
    "pokes = factory.create_all(level=100)"
   ]
  },
  {
   "cell_type": "code",
   "execution_count": 5,
   "id": "f4bbf1f9-259e-4a6a-897e-a2f7819114f2",
   "metadata": {},
   "outputs": [
    {
     "data": {
      "text/plain": [
       "{'pokeball': {'jolteon': 0.05305305305305305,\n",
       "  'caterpie': 0.36536536536536535,\n",
       "  'snorlax': 0.028028028028028028,\n",
       "  'onix': 0.05405405405405406,\n",
       "  'mewtwo': 0.004004004004004004},\n",
       " 'ultraball': {'jolteon': 0.11711711711711711,\n",
       "  'caterpie': 0.6626626626626627,\n",
       "  'snorlax': 0.07007007007007007,\n",
       "  'onix': 0.12312312312312312,\n",
       "  'mewtwo': 0.01001001001001001},\n",
       " 'fastball': {'jolteon': 0.25225225225225223,\n",
       "  'caterpie': 0.3213213213213213,\n",
       "  'snorlax': 0.025025025025025027,\n",
       "  'onix': 0.06106106106106106,\n",
       "  'mewtwo': 0.01701701701701702},\n",
       " 'heavyball': {'jolteon': 0.043043043043043044,\n",
       "  'caterpie': 0.28128128128128127,\n",
       "  'snorlax': 0.0920920920920921,\n",
       "  'onix': 0.09309309309309309,\n",
       "  'mewtwo': 0.001001001001001001}}"
      ]
     },
     "execution_count": 5,
     "metadata": {},
     "output_type": "execute_result"
    }
   ],
   "source": [
    "avg_per_poke = {}\n",
    "for ball in ball_types:\n",
    "    avg_per_poke[ball] = {}\n",
    "    for poke in pokes:\n",
    "        count = 0\n",
    "        tot = 0\n",
    "        for i in range(1, 1000):\n",
    "            count += 1\n",
    "            was_captured, capture_rate = attempt_catch(poke, ball)\n",
    "            tot += was_captured\n",
    "        avg_per_poke[ball][poke.name] = tot/count\n",
    "\n",
    "avg_per_poke"
   ]
  },
  {
   "cell_type": "code",
   "execution_count": 6,
   "id": "1abb3062-a37b-4666-8a36-9b46025ec3ec",
   "metadata": {},
   "outputs": [
    {
     "ename": "NameError",
     "evalue": "name 'pd' is not defined",
     "output_type": "error",
     "traceback": [
      "\u001b[1;31m---------------------------------------------------------------------------\u001b[0m",
      "\u001b[1;31mNameError\u001b[0m                                 Traceback (most recent call last)",
      "Cell \u001b[1;32mIn[6], line 12\u001b[0m\n\u001b[0;32m      9\u001b[0m         ball_labels\u001b[38;5;241m.\u001b[39mappend(ball)\n\u001b[0;32m     11\u001b[0m \u001b[38;5;66;03m# Create a DataFrame for Seaborn\u001b[39;00m\n\u001b[1;32m---> 12\u001b[0m df \u001b[38;5;241m=\u001b[39m \u001b[43mpd\u001b[49m\u001b[38;5;241m.\u001b[39mDataFrame({\u001b[38;5;124m'\u001b[39m\u001b[38;5;124mPoké Ball\u001b[39m\u001b[38;5;124m'\u001b[39m: ball_labels, \u001b[38;5;124m'\u001b[39m\u001b[38;5;124mCatch Rate\u001b[39m\u001b[38;5;124m'\u001b[39m: catch_rates, \u001b[38;5;124m'\u001b[39m\u001b[38;5;124mPokémon\u001b[39m\u001b[38;5;124m'\u001b[39m: poke_names})\n\u001b[0;32m     14\u001b[0m \u001b[38;5;66;03m# Calculate averages per ball\u001b[39;00m\n\u001b[0;32m     15\u001b[0m avg_rates \u001b[38;5;241m=\u001b[39m {ball: np\u001b[38;5;241m.\u001b[39mmean(\u001b[38;5;28mlist\u001b[39m(avg_per_poke[ball]\u001b[38;5;241m.\u001b[39mvalues())) \u001b[38;5;28;01mfor\u001b[39;00m ball \u001b[38;5;129;01min\u001b[39;00m ball_types}\n",
      "\u001b[1;31mNameError\u001b[0m: name 'pd' is not defined"
     ]
    }
   ],
   "source": [
    "poke_names = []\n",
    "catch_rates = []\n",
    "ball_labels = []\n",
    "\n",
    "for ball, pokes in avg_per_poke.items():\n",
    "    for poke, rate in pokes.items():\n",
    "        poke_names.append(poke)\n",
    "        catch_rates.append(rate)\n",
    "        ball_labels.append(ball)\n",
    "\n",
    "# Create a DataFrame for Seaborn\n",
    "df = pd.DataFrame({'Poké Ball': ball_labels, 'Catch Rate': catch_rates, 'Pokémon': poke_names})\n",
    "\n",
    "# Calculate averages per ball\n",
    "avg_rates = {ball: np.mean(list(avg_per_poke[ball].values())) for ball in ball_types}\n",
    "\n",
    "# --- PLOT 1: Bar Chart (Average Catch Rate per Poké Ball) ---\n",
    "plt.figure(figsize=(10, 5))\n",
    "sns.barplot(x=list(avg_rates.keys()), y=list(avg_rates.values()), palette=\"muted\")\n",
    "plt.xlabel(\"Poké Ball Type\")\n",
    "plt.ylabel(\"Average Catch Rate\")\n",
    "plt.title(\"Average Catch Rate by Poké Ball\")\n",
    "plt.ylim(0, max(avg_rates.values()) * 1.2)  # Add some padding\n",
    "plt.show()\n",
    "\n",
    "# --- PLOT 2: Box Plot (Variance in Catch Rate) ---\n",
    "plt.figure(figsize=(10, 6))\n",
    "ax = sns.boxplot(x=\"Poké Ball\", y=\"Catch Rate\", data=df, palette=\"muted\")\n",
    "\n",
    "# Identify Outliers\n",
    "for ball in ball_types:\n",
    "    ball_data = df[df['Poké Ball'] == ball]['Catch Rate']\n",
    "    q1 = np.percentile(ball_data, 25)\n",
    "    q3 = np.percentile(ball_data, 75)\n",
    "    iqr = q3 - q1\n",
    "    lower_bound = q1 - 1.5 * iqr\n",
    "    upper_bound = q3 + 1.5 * iqr\n",
    "\n",
    "    outliers = df[(df['Poké Ball'] == ball) & ((df['Catch Rate'] < lower_bound) | (df['Catch Rate'] > upper_bound))]\n",
    "\n",
    "    for _, row in outliers.iterrows():\n",
    "        plt.text(ball_types.index(ball), row['Catch Rate'], row['Pokémon'], \n",
    "                 horizontalalignment='center', verticalalignment='bottom', fontsize=10, color='red')\n",
    "\n",
    "# Titles and Labels\n",
    "plt.xlabel(\"Poké Ball Type\")\n",
    "plt.ylabel(\"Catch Rate\")\n",
    "plt.title(\"Variance in Catch Rate by Poké Ball\\n(Outlier Pokémon Names in Red)\")\n",
    "plt.show()"
   ]
  },
  {
   "cell_type": "code",
   "execution_count": null,
   "id": "d0be20a3-a8f1-4104-b0c6-6846808401f8",
   "metadata": {},
   "outputs": [],
   "source": []
  }
 ],
 "metadata": {
  "kernelspec": {
   "display_name": "Python 3 (ipykernel)",
   "language": "python",
   "name": "python3"
  },
  "language_info": {
   "codemirror_mode": {
    "name": "ipython",
    "version": 3
   },
   "file_extension": ".py",
   "mimetype": "text/x-python",
   "name": "python",
   "nbconvert_exporter": "python",
   "pygments_lexer": "ipython3",
   "version": "3.11.9"
  }
 },
 "nbformat": 4,
 "nbformat_minor": 5
}
